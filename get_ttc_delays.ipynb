{
 "cells": [
  {
   "cell_type": "code",
   "execution_count": 54,
   "id": "b46c626a",
   "metadata": {},
   "outputs": [],
   "source": [
    "import requests\n",
    "import pandas as pd"
   ]
  },
  {
   "cell_type": "code",
   "execution_count": 2,
   "id": "0f58c4a8",
   "metadata": {},
   "outputs": [],
   "source": [
    "base_url = \"https://ckan0.cf.opendata.inter.prod-toronto.ca\""
   ]
  },
  {
   "cell_type": "code",
   "execution_count": 3,
   "id": "673116b9",
   "metadata": {},
   "outputs": [],
   "source": [
    "url = base_url + \"/api/3/action/package_show\"\n",
    "params = { \"id\": \"ttc-bus-delay-data\"}"
   ]
  },
  {
   "cell_type": "code",
   "execution_count": 4,
   "id": "0a896c70",
   "metadata": {},
   "outputs": [],
   "source": [
    "package = requests.get(url, params = params).json()"
   ]
  },
  {
   "cell_type": "code",
   "execution_count": 44,
   "id": "dfebdf5b",
   "metadata": {
    "scrolled": true
   },
   "outputs": [],
   "source": [
    "bus_names = [\"ttc-bus-delay-data-2014\",\n",
    "            \"ttc-bus-delay-data-2015\",\n",
    "            \"ttc-bus-delay-data-2016\",\n",
    "            \"ttc-bus-delay-data-2017\",\n",
    "            \"ttc-bus-delay-data-2018\",\n",
    "            \"ttc-bus-delay-data-2019\",\n",
    "            \"ttc-bus-delay-data-2020\",\n",
    "            \"ttc-bus-delay-data-2021\",\n",
    "            \"ttc-bus-delay-data-2022\",\n",
    "            \"ttc-bus-delay-data-2023\",\n",
    "            \"ttc-bus-delay-data-2024\",\n",
    "            \"ttc-bus-delay-data-since-2025.csv\"]"
   ]
  },
  {
   "cell_type": "code",
   "execution_count": 50,
   "id": "f5eca5be",
   "metadata": {},
   "outputs": [],
   "source": [
    "urls = []\n",
    "for x in package[\"result\"][\"resources\"]:\n",
    "    url = x.get(\"url\", \"\")\n",
    "    if any(name in url.lower() for name in bus_names):\n",
    "        urls.append(url)"
   ]
  },
  {
   "cell_type": "code",
   "execution_count": 57,
   "id": "9f33a468",
   "metadata": {},
   "outputs": [
    {
     "name": "stdout",
     "output_type": "stream",
     "text": [
      "Please wait...\n",
      "Please wait...\n",
      "Please wait...\n",
      "Please wait...\n",
      "Please wait...\n",
      "Please wait...\n",
      "Please wait...\n",
      "Please wait...\n",
      "Please wait...\n",
      "Please wait...\n",
      "Please wait...\n",
      "Please wait...\n"
     ]
    }
   ],
   "source": [
    "dfs = []\n",
    "\n",
    "for x in urls:\n",
    "    print(\"Please wait...\")\n",
    "    if x.lower().endswith(\".csv\"):\n",
    "        df = pd.read_csv(x)\n",
    "    elif x.lower().endswith((\".xls\", \".xlsx\")):\n",
    "        df = pd.read_excel(x)\n",
    "    else:\n",
    "        print(f\"Skipping unsupported file type: {x}\")\n",
    "        continue\n",
    "    dfs.append(df)"
   ]
  },
  {
   "cell_type": "code",
   "execution_count": 59,
   "id": "3cb1f090",
   "metadata": {},
   "outputs": [],
   "source": [
    "combined_df = pd.concat(dfs, ignore_index=True)"
   ]
  },
  {
   "cell_type": "code",
   "execution_count": null,
   "id": "56114a28",
   "metadata": {},
   "outputs": [],
   "source": []
  }
 ],
 "metadata": {
  "kernelspec": {
   "display_name": "Python 3 (ipykernel)",
   "language": "python",
   "name": "python3"
  },
  "language_info": {
   "codemirror_mode": {
    "name": "ipython",
    "version": 3
   },
   "file_extension": ".py",
   "mimetype": "text/x-python",
   "name": "python",
   "nbconvert_exporter": "python",
   "pygments_lexer": "ipython3",
   "version": "3.10.9"
  },
  "varInspector": {
   "cols": {
    "lenName": 16,
    "lenType": 16,
    "lenVar": 40
   },
   "kernels_config": {
    "python": {
     "delete_cmd_postfix": "",
     "delete_cmd_prefix": "del ",
     "library": "var_list.py",
     "varRefreshCmd": "print(var_dic_list())"
    },
    "r": {
     "delete_cmd_postfix": ") ",
     "delete_cmd_prefix": "rm(",
     "library": "var_list.r",
     "varRefreshCmd": "cat(var_dic_list()) "
    }
   },
   "types_to_exclude": [
    "module",
    "function",
    "builtin_function_or_method",
    "instance",
    "_Feature"
   ],
   "window_display": false
  }
 },
 "nbformat": 4,
 "nbformat_minor": 5
}
